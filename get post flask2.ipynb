{
 "cells": [
  {
   "cell_type": "markdown",
   "id": "a329b5b3",
   "metadata": {},
   "source": [
    " GET and POST are two HTTP methods used for sending data between a client (such as a web browser) and a server.\n",
    "\n",
    "GET:\n",
    "\n",
    "GET is a method used for retrieving data from a server.\n",
    "It is the default method used by browsers when you enter a URL in the address bar or click on a link.\n",
    "GET requests are generally used for fetching data, and they can be bookmarked and cached by the browser.\n",
    "In a GET request, the data is sent as part of the URL in the form of query parameters. These parameters are visible in the URL and have limitations on the amount of data that can be sent.\n",
    "POST:\n",
    "\n",
    "POST is a method used for submitting data to a server.\n",
    "It is commonly used when submitting forms on web pages, such as login forms or data submission forms.\n",
    "POST requests are more secure compared to GET requests because the data is sent in the request body rather than as part of the URL.\n",
    "In a POST request, the data is sent as key-value pairs in the request body. This allows for larger amounts of data to be sent compared to GET requests.\n",
    "In summary, GET is used for retrieving data, while POST is used for submitting or sending data to a server"
   ]
  },
  {
   "cell_type": "markdown",
   "id": "b2588c71",
   "metadata": {},
   "source": [
    "The request object provides various attributes and methods to access different parts of the request data. Some commonly used attributes and methods of the request object include:\n",
    "\n",
    "request.args: Contains the parsed query parameters from the URL.\n",
    "request.form: Contains the parsed form data from POST requests.\n",
    "request.files: Contains uploaded files from the client.\n",
    "request.headers: Contains the HTTP headers of the request.\n",
    "By using the request object, Flask applications can access and process data sent by the client, allowing for dynamic and interactive behavior based on the incoming requests.\n",
    "\n"
   ]
  },
  {
   "cell_type": "markdown",
   "id": "83501ef1",
   "metadata": {},
   "source": [
    " The redirect() function in Flask is used to redirect the user's browser to a different URL. It is typically used after processing a request to redirect the user to a different page or URL.\n",
    "\n",
    "The redirect() function takes the target URL as an argument and returns a redirect response to the client's browser. When the browser receives the redirect response, it automatically makes a new request to the provided URL, effectively redirecting the user.\n",
    "\n",
    "Redirects are useful in various scenarios, such as:\n",
    "\n",
    "After successfully processing a form submission, redirecting the user to a thank you page or a different page.\n",
    "After a user logs in or logs out, redirecting them to the appropriate page.\n",
    "Handling invalid or unauthorized access by redirecting the user to an error page or a login page."
   ]
  },
  {
   "cell_type": "markdown",
   "id": "6a8526c3",
   "metadata": {},
   "source": [
    " Templates in Flask are used to separate the presentation logic from the application logic. They provide a way to define the structure and layout of web pages and dynamically insert data into the HTML before sending it to the client's browser.\n",
    "\n",
    "Templates in Flask typically use the Jinja2 templating engine, which allows for dynamic content generation and powerful template features such as conditionals, loops, and template inheritance.\n",
    "\n",
    "The render_template() function in Flask is used to render a template and return the resulting HTML as a response to the client's request. It takes the template filename as an argument and optional keyword arguments to pass data to the template.\n",
    "\n",
    "By using templates and the render_template() function, developers can create reusable HTML templates and generate dynamic content based on the data passed from the Flask application. This helps separate the design and presentation aspects from the underlying logic, making the code more maintainable and flexible.\n",
    "\n"
   ]
  },
  {
   "cell_type": "markdown",
   "id": "2121207a",
   "metadata": {},
   "source": [
    "from flask import Flask, jsonify\n",
    "\n",
    "app = Flask(__name__)\n",
    "\n",
    "@app.route('/api/hello', methods=['GET'])\n",
    "def hello():\n",
    "    response = {\n",
    "        'message': 'Hello, world!'\n",
    "    }\n",
    "    return jsonify(response)\n",
    "\n",
    "if __name__ == '__main__':\n",
    "    app.run()\n"
   ]
  }
 ],
 "metadata": {
  "kernelspec": {
   "display_name": "Python 3 (ipykernel)",
   "language": "python",
   "name": "python3"
  },
  "language_info": {
   "codemirror_mode": {
    "name": "ipython",
    "version": 3
   },
   "file_extension": ".py",
   "mimetype": "text/x-python",
   "name": "python",
   "nbconvert_exporter": "python",
   "pygments_lexer": "ipython3",
   "version": "3.9.13"
  }
 },
 "nbformat": 4,
 "nbformat_minor": 5
}
