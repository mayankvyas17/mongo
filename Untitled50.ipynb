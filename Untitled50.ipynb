{
 "cells": [
  {
   "cell_type": "markdown",
   "id": "38dd188f",
   "metadata": {},
   "source": [
    "MongoDB is a popular open-source NoSQL database management system that uses a document-oriented data model. It stores data in flexible, JSON-like documents with dynamic schemas, allowing for easy scalability and handling of unstructured or semi-structured data.\n",
    "\n",
    "Non-relational databases, also known as NoSQL databases, are designed to handle large-scale, distributed, and real-time data. They provide flexible schemas, high availability, and horizontal scalability, making them suitable for use cases such as real-time analytics, content management systems, social media platforms, IoT applications, and mobile apps. Non-relational databases do not rely on fixed table schemas like SQL databases, allowing for easier adaptation to evolving data requirements.\n",
    "\n",
    "MongoDB is preferred over SQL databases in scenarios such as:\n",
    "\n",
    "Applications with rapidly changing or evolving data models, where the flexibility of a dynamic schema is valuable.\n",
    "Projects that deal with large volumes of unstructured or semi-structured data, such as social media feeds, logs, or sensor data.\n",
    "Use cases that require high scalability and horizontal scaling, as MongoDB can distribute data across multiple servers.\n",
    "Real-time analytics or applications that require high-speed data ingestion and retrieval.\n",
    "Projects that need seamless integration with programming languages and frameworks, as MongoDB provides native drivers for many popular languages.\n"
   ]
  },
  {
   "cell_type": "markdown",
   "id": "263d3742",
   "metadata": {},
   "source": [
    "MongoDB has several key features that make it a popular choice for developers:\n",
    "\n",
    "Document-oriented: MongoDB stores data in flexible, self-describing JSON-like documents called BSON (Binary JSON). This document-oriented model allows for easy storage of complex and hierarchical data structures.\n",
    "Scalability: MongoDB provides horizontal scalability, allowing data to be distributed across multiple servers or clusters. It supports sharding, automatic load balancing, and replication for high availability and fault tolerance.\n",
    "Flexible Schema: MongoDB uses a dynamic schema, meaning that documents within a collection can have different structures or fields. This flexibility enables easy modification of data models without downtime or migrations.\n",
    "Indexing and Querying: MongoDB supports rich querying capabilities and allows for the creation of indexes on any field. It provides powerful query expressions, including support for joins, aggregations, and full-text search.\n",
    "High Performance: MongoDB's architecture and optimized storage engine deliver high performance for read and write operations. It also provides features like in-memory storage, caching, and advanced query optimization.\n",
    "Multi-document ACID Transactions: MongoDB supports multi-document ACID (Atomicity, Consistency, Isolation, Durability) transactions, enabling complex operations that involve multiple documents.\n",
    "Rich Ecosystem: MongoDB has a vibrant ecosystem with extensive community support, comprehensive documentation, and a wide range of tools, libraries, and frameworks that simplify development and integration with other technologies."
   ]
  },
  {
   "cell_type": "code",
   "execution_count": null,
   "id": "dcd6f2cb",
   "metadata": {},
   "outputs": [],
   "source": [
    "import pymongo\n",
    "\n",
    "# Establish the connection\n",
    "client = pymongo.MongoClient(\"mongodb://localhost:27017/\")\n",
    "\n",
    "# Create a database\n",
    "database = client[\"mydatabase\"]\n",
    "\n",
    "# Create a collection\n",
    "collection = database[\"mycollection\"]\n"
   ]
  },
  {
   "cell_type": "code",
   "execution_count": null,
   "id": "865544f7",
   "metadata": {},
   "outputs": [],
   "source": [
    "import pymongo\n",
    "\n",
    "# Establish the connection (assuming it's already connected)\n",
    "client = pymongo.MongoClient(\"mongodb://localhost:27017/\")\n",
    "\n",
    "# Access the database and collection\n",
    "database = client[\"mydatabase\"]\n",
    "collection = database[\"mycollection\"]\n",
    "\n",
    "# Insert one record\n",
    "record_one = {\"name\": \"John\", \"age\": 30}\n",
    "inserted_one = collection.insert_one(record_one)\n",
    "print(\"Inserted record ID:\", inserted_one.inserted_id)\n",
    "\n",
    "# Insert many records\n",
    "records_many = [\n",
    "    {\"name\": \"Alice\", \"age\": 25},\n",
    "    {\"name\": \"Bob\", \"age\": 35},\n",
    "    {\"name\": \"Charlie\", \"age\": 40}\n",
    "]\n",
    "inserted_many = collection.insert_many(records_many)\n",
    "print(\"Inserted record IDs:\", inserted_many.inserted_ids)\n",
    "\n",
    "# Find and print the inserted record using find_one()\n",
    "found_record = collection.find_one({\"name\": \"John\"})\n",
    "print(\"Found record:\", found_record)\n",
    "\n",
    "# Find and print all the inserted records using find()\n",
    "found_records = collection.find()\n",
    "for record in found_records:\n",
    "    print(\"Found record:\", record)\n"
   ]
  },
  {
   "cell_type": "code",
   "execution_count": null,
   "id": "48366aa4",
   "metadata": {},
   "outputs": [],
   "source": [
    "import pymongo\n",
    "\n",
    "# Establish the connection (assuming it's already connected)\n",
    "client = pymongo.MongoClient(\"mongodb://localhost:27017/\")\n",
    "\n",
    "# Access the database and collection\n",
    "database = client[\"mydatabase\"]\n",
    "collection = database[\"mycollection\"]\n",
    "\n",
    "# Find documents that match a specific condition\n",
    "query = {\"age\": {\"$gt\": 30}}  # Find documents where age is greater than 30\n",
    "result = collection.find(query)\n",
    "\n",
    "# Print the found documents\n",
    "for document in result:\n",
    "    print(document)\n"
   ]
  },
  {
   "cell_type": "code",
   "execution_count": null,
   "id": "d370a578",
   "metadata": {},
   "outputs": [],
   "source": [
    "import pymongo\n",
    "\n",
    "# Establish the connection (assuming it's already connected)\n",
    "client = pymongo.MongoClient(\"mongodb://localhost:27017/\")\n",
    "\n",
    "# Access the database and collection\n",
    "database = client[\"mydatabase\"]\n",
    "collection = database[\"mycollection\"]\n",
    "\n",
    "# Find and sort the documents\n",
    "query = {}  # Match all documents\n",
    "sort_order = [(\"age\", 1)]  # Sort by the \"age\" field in ascending order\n",
    "result = collection.find(query).sort(sort_order)\n",
    "\n",
    "# Print the sorted documents\n",
    "for document in result:\n",
    "    print(document)\n"
   ]
  },
  {
   "cell_type": "code",
   "execution_count": null,
   "id": "7fb39618",
   "metadata": {},
   "outputs": [],
   "source": []
  }
 ],
 "metadata": {
  "kernelspec": {
   "display_name": "Python 3 (ipykernel)",
   "language": "python",
   "name": "python3"
  },
  "language_info": {
   "codemirror_mode": {
    "name": "ipython",
    "version": 3
   },
   "file_extension": ".py",
   "mimetype": "text/x-python",
   "name": "python",
   "nbconvert_exporter": "python",
   "pygments_lexer": "ipython3",
   "version": "3.9.13"
  }
 },
 "nbformat": 4,
 "nbformat_minor": 5
}
