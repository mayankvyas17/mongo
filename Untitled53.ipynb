{
 "cells": [
  {
   "cell_type": "markdown",
   "id": "383fbf04",
   "metadata": {},
   "source": [
    "Q1. Flask is a micro web framework written in Python. It is designed to be lightweight and easy to use, allowing developers to quickly build web applications. Flask provides a simple and flexible way to create web applications by providing tools and libraries for handling HTTP requests and responses, routing URL paths, rendering templates, and managing sessions.\n",
    "\n",
    "Advantages of Flask Framework:\n",
    "\n",
    "Lightweight and minimalist: Flask has a small core and does not impose any dependencies or project structure. It allows developers to choose the libraries and tools they want to use.\n",
    "Easy to get started: Flask is designed to be simple and intuitive, making it easy for beginners to learn and start building web applications.\n",
    "Flexible and customizable: Flask allows developers to choose how they want to structure their applications and provides extension points to add functionality as needed.\n",
    "Extensive documentation: Flask has excellent documentation, which provides detailed explanations, examples, and tutorials to guide developers in using the framework effectively.\n",
    "Large community and ecosystem: Flask has a thriving community of developers, which means there are many resources, plugins, and extensions available to enhance the functionality of Flask applications.\n",
    "Integration with other libraries: Flask can be easily integrated with other Python libraries, allowing developers to leverage existing tools and technologies.\n"
   ]
  },
  {
   "cell_type": "code",
   "execution_count": null,
   "id": "55ac6ee0",
   "metadata": {},
   "outputs": [],
   "source": []
  },
  {
   "cell_type": "markdown",
   "id": "deac75e3",
   "metadata": {},
   "source": [
    "from flask import Flask\n",
    "\n",
    "app = Flask(__name__)\n",
    "\n",
    "@app.route('/')\n",
    "def hello_world():\n",
    "    return 'Hello World!!'\n",
    "\n",
    "if __name__ == '__main__':\n",
    "    app.run()\n"
   ]
  },
  {
   "cell_type": "markdown",
   "id": "7f9fa7fd",
   "metadata": {},
   "source": [
    " App routing in Flask refers to the process of defining URL routes or paths that map to specific functions or views in a Flask application. It determines how different URLs or endpoints of a web application will be handled. App routing is essential because it allows Flask to know which code to execute for each URL, enabling developers to create different pages or functionalities within their web application.\n",
    "\n",
    "Flask uses the @app.route() decorator to define routes. The @app.route() decorator is used to associate a URL path with a specific function. When a user visits a particular URL, Flask calls the associated function and returns the result as an HTTP response.\n",
    "\n",
    "For example:\n",
    "\n",
    "python\n",
    "Copy code\n",
    "from flask import Flask\n",
    "\n",
    "app = Flask(__name__)\n",
    "\n",
    "@app.route('/')\n",
    "def home():\n",
    "    return 'This is the home page'\n",
    "\n",
    "@app.route('/about')\n",
    "def about():\n",
    "    return 'This is the about page'\n",
    "\n",
    "if __name__ == '__main__':\n",
    "    app.run()\n",
    "In the example above, the home() function is associated with the root URL (\"/\"), and the about() function is associated with the \"/about\" URL. When a user visits these URLs, Flask calls the corresponding functions and returns the respective responses.\n",
    "\n"
   ]
  },
  {
   "cell_type": "markdown",
   "id": "bffffc50",
   "metadata": {},
   "source": [
    "from flask import Flask\n",
    "\n",
    "app = Flask(__name__)\n",
    "\n",
    "@app.route('/welcome')\n",
    "def welcome():\n",
    "    return 'Welcome to ABC Corporation'\n",
    "\n",
    "@app.route('/')\n",
    "def company_details():\n",
    "    company_name = 'ABC Corporation'\n",
    "    location = 'India'\n",
    "    contact_detail = '999-999-9999'\n",
    "\n",
    "    return f'''\n",
    "    Company Name: {company_name}\n",
    "    Location: {location}\n",
    "    Contact Detail: {contact_detail}\n",
    "    '''\n",
    "\n",
    "if __name__ == '__main__':\n",
    "    app.run()\n"
   ]
  },
  {
   "cell_type": "markdown",
   "id": "89284106",
   "metadata": {},
   "source": [
    "from flask import Flask, url_for\n",
    "\n",
    "app = Flask(__name__)\n",
    "\n",
    "@app.route('/')\n",
    "def home():\n",
    "    return 'This is the home page'\n",
    "\n",
    "@app.route('/about')\n",
    "def about():\n",
    "    return 'This is the about page'\n",
    "\n",
    "@app.route('/user/<username>')\n",
    "def profile(username):\n",
    "    return f'This is the profile page of {username}'\n",
    "\n",
    "@app.route('/post/<int:post_id>')\n",
    "def show_post(post_id):\n",
    "    return f'This is post #{post_id}'\n",
    "\n",
    "if __name__ == '__main__':\n",
    "    with app.test_request_context():\n",
    "        print(url_for('home'))  # Output: '/'\n",
    "        print(url_for('about'))  # Output: '/about'\n",
    "        print(url_for('profile', username='john'))  # Output: '/user/john'\n",
    "        print(url_for('show_post', post_id=123))  # Output: '/post/123'\n"
   ]
  }
 ],
 "metadata": {
  "kernelspec": {
   "display_name": "Python 3 (ipykernel)",
   "language": "python",
   "name": "python3"
  },
  "language_info": {
   "codemirror_mode": {
    "name": "ipython",
    "version": 3
   },
   "file_extension": ".py",
   "mimetype": "text/x-python",
   "name": "python",
   "nbconvert_exporter": "python",
   "pygments_lexer": "ipython3",
   "version": "3.9.13"
  }
 },
 "nbformat": 4,
 "nbformat_minor": 5
}
